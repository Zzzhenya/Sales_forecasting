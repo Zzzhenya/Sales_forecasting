{
 "cells": [
  {
   "cell_type": "markdown",
   "id": "c2b6d915-2323-4a15-9119-bb135e4f129b",
   "metadata": {},
   "source": [
    "# Forecasting"
   ]
  },
  {
   "cell_type": "markdown",
   "id": "ef9f88d8-2c6d-4b58-8090-5be5b518fb55",
   "metadata": {},
   "source": [
    "## Summary"
   ]
  },
  {
   "cell_type": "markdown",
   "id": "c2d6499c-6874-44d7-b646-dff027544197",
   "metadata": {},
   "source": [
    "| #   | Method                                                  |mean squared error  |mean absolute error| |\n",
    "|:----|:--------------------------------------------------------|-------------------:|------------------:|--:|\n",
    "| 01  | Pandas moving average - pre-grouped by month (3 month)  | 234418077.64       | 10567.14   |2292.11|\n",
    "| 2A  | Pandas moving average - pre-grouped by day (3 day)      | 916611.0          | 645.75    |   1605.19|\n",
    "| 2B  | Pandas moving average - pre-grouped by day post-grouped month (3 day)|75117338.43| 3303.46| 47352.58 |\n",
    "| 03  | SARIMA - Monthly - (0, 1, 0) (0, 1, 0, 12)          | 1428109073.12      | 17107.39         |\n",
    "| 04  | SARIMA - Daily - (0, 1, 1) (1, 1, 1, 7)  |1910370.29|775.0|\n",
    "| 05  | Exponential Smoothing - Monthly   |         |            |\n",
    "| 06  | Exponential Smoothing - Daily   |         |            |"
   ]
  },
  {
   "cell_type": "markdown",
   "id": "da8b4787-5fa0-4561-a2c8-a43e074bbe7d",
   "metadata": {},
   "source": [
    "## References"
   ]
  },
  {
   "cell_type": "markdown",
   "id": "59a60ebf-09d4-4011-8647-31195c92129b",
   "metadata": {},
   "source": [
    "* https://machinelearningmastery.com/moving-average-smoothing-for-time-series-forecasting-python/\n",
    "* https://www.kaggle.com/code/carlmcbrideellis/time-series-a-simple-moving-average-ma-model\n",
    "* https://medium.com/@josemarcialportilla/using-python-and-auto-arima-to-forecast-seasonal-time-series-90877adff03c\n",
    "* https://machinelearningmastery.com/sarima-for-time-series-forecasting-in-python/\n",
    "* https://machinelearningmastery.com/arima-for-time-series-forecasting-with-python/\n",
    "* https://stackoverflow.com/questions/46146537/error-in-threading-sarimax-model\n"
   ]
  },
  {
   "cell_type": "markdown",
   "id": "6e39a570-6657-4834-80fa-b5483dff0aae",
   "metadata": {},
   "source": [
    "## Loading Libraries and datasets"
   ]
  },
  {
   "cell_type": "code",
   "execution_count": 373,
   "id": "1a870e1f-b4d2-4a41-82ac-1432f05b98c0",
   "metadata": {},
   "outputs": [],
   "source": [
    "# Importing data analytics libraries\n",
    "import pandas as pd\n",
    "import numpy as np"
   ]
  },
  {
   "cell_type": "code",
   "execution_count": 374,
   "id": "36b2e619-1825-4d2c-8596-2d2b11363fb3",
   "metadata": {},
   "outputs": [],
   "source": [
    "# Importing visualizing libraries\n",
    "import matplotlib.pyplot as plt\n",
    "import seaborn as sns\n",
    "#Setting parameters for plot fig size\n",
    "plt.rcParams[\"figure.figsize\"] = (20,16)"
   ]
  },
  {
   "cell_type": "code",
   "execution_count": 375,
   "id": "2bffb4c4-a3b0-4ad5-a83a-4c626af7c431",
   "metadata": {},
   "outputs": [],
   "source": [
    "# Importing performance metrics\n",
    "from sklearn.metrics import mean_squared_error\n",
    "from sklearn.metrics import mean_absolute_error"
   ]
  },
  {
   "cell_type": "code",
   "execution_count": 376,
   "id": "d4ea1042-5bb5-41b0-840c-02b18f266c42",
   "metadata": {},
   "outputs": [],
   "source": [
    "# statsmodels libraries\n",
    "from statsmodels.tsa.stattools import adfuller\n",
    "from statsmodels.graphics.tsaplots import plot_acf\n",
    "from statsmodels.graphics.tsaplots import plot_pacf\n",
    "from statsmodels.tsa.seasonal import seasonal_decompose\n",
    "from statsmodels.tsa.arima.model import ARIMA\n",
    "from statsmodels.tsa.statespace.sarimax import SARIMAX"
   ]
  },
  {
   "cell_type": "code",
   "execution_count": 377,
   "id": "2dd0447d-4649-4f19-ab07-97b007c36e37",
   "metadata": {},
   "outputs": [],
   "source": [
    "# Pyramid arima for autoarima\n",
    "import pmdarima as pm"
   ]
  },
  {
   "cell_type": "code",
   "execution_count": 378,
   "id": "f572ed54-0ec4-411c-8c18-fbf5f51ec854",
   "metadata": {},
   "outputs": [],
   "source": [
    "# Reading the cleaned and feature-engineered test dataset\n",
    "df_test = pd.read_csv('../competitive-data-science-final-project/sales_test_with_target.csv')"
   ]
  },
  {
   "cell_type": "code",
   "execution_count": null,
   "id": "541e2dde-22a1-49fc-b82d-5ce933cca45f",
   "metadata": {},
   "outputs": [],
   "source": [
    "# Reading the cleaned and feature-engineered train dataset\n",
    "df = pd.read_csv('../competitive-data-science-final-project/new_sales_train.csv')"
   ]
  },
  {
   "cell_type": "markdown",
   "id": "9f10146c-3ecf-4733-afa4-cee6c72e91aa",
   "metadata": {},
   "source": [
    "## Grouping the dataframes to get one row each for the measured time unit"
   ]
  },
  {
   "cell_type": "code",
   "execution_count": null,
   "id": "1d7e4600-2884-4b4b-87bc-733a865e02e0",
   "metadata": {},
   "outputs": [],
   "source": [
    "# Grouping by date_block_num to get monthly item_cnt_day sum\n",
    "df_monthly = df.groupby(df.date_block_num)[[\"item_cnt_day\"]].sum()\n",
    "df_monthly.tail()"
   ]
  },
  {
   "cell_type": "code",
   "execution_count": null,
   "id": "08281f01-da25-4fc6-a165-189f0020fe94",
   "metadata": {},
   "outputs": [],
   "source": [
    "# Grouping the test data - Monthly\n",
    "df_monthly_test = df_test.groupby(df_test.date_block_num)[[\"item_cnt_day\"]].sum()"
   ]
  },
  {
   "cell_type": "code",
   "execution_count": null,
   "id": "c4be4b55-9f1d-498e-9f96-dff8a4a9ca84",
   "metadata": {},
   "outputs": [],
   "source": [
    "# Grouping by date to get daily item_cnt_day sum\n",
    "df_daily = df.groupby(df.date)[[\"item_cnt_day\"]].sum()"
   ]
  },
  {
   "cell_type": "code",
   "execution_count": null,
   "id": "940a0bed-e458-4ee6-a60b-24e2c5899050",
   "metadata": {},
   "outputs": [],
   "source": [
    "# Grouping the test data - Daily\n",
    "df_daily_test = df_test.groupby(df_test.date)[[\"item_cnt_day\"]].sum()"
   ]
  },
  {
   "cell_type": "markdown",
   "id": "ea7a8fe1-e5e2-4047-9dd7-bd8c4d2d5f58",
   "metadata": {},
   "source": [
    "# 1. Pandas moving average - grouped by month - 3 month"
   ]
  },
  {
   "cell_type": "code",
   "execution_count": null,
   "id": "58083ef4-5279-416e-8639-6366614b5967",
   "metadata": {},
   "outputs": [],
   "source": [
    "# Making a copy of the data frame\n",
    "df_monthly_train = df_monthly.copy()"
   ]
  },
  {
   "cell_type": "code",
   "execution_count": null,
   "id": "7568ad5e-0ee8-4725-b7da-82da7030dd81",
   "metadata": {},
   "outputs": [],
   "source": [
    "# Adding rolling average column for 3 month rolling average\n",
    "df_monthly_train[\"rolling_av3\"] = df_monthly_train[\"item_cnt_day\"].rolling(3).mean().round(2)"
   ]
  },
  {
   "cell_type": "code",
   "execution_count": null,
   "id": "6b7bd69f-c4be-4a5b-bba8-fc5e3751dec9",
   "metadata": {},
   "outputs": [],
   "source": [
    "# Adding the rolling average of month 32 as the actual for month 33 to predict the average for month 33 \n",
    "df_monthly_train.loc[len(df_monthly_train)] = [df_monthly_train.rolling_av3[32], \" \"]"
   ]
  },
  {
   "cell_type": "code",
   "execution_count": null,
   "id": "6336f042-ab49-447c-91c5-58f135c25839",
   "metadata": {},
   "outputs": [],
   "source": [
    "# Predicting the rolling average for month 33 in a seperate column\n",
    "df_monthly_train[\"rolling_av3_1\"] = df_monthly_train[\"item_cnt_day\"].rolling(3).mean().round(2)"
   ]
  },
  {
   "cell_type": "code",
   "execution_count": null,
   "id": "7643f68b-2057-4aed-8a89-7010af4b0c7f",
   "metadata": {},
   "outputs": [],
   "source": [
    "# Replacing the item_cnt_day value for month 33 with test data and calculating the MSE and MAE\n",
    "actual_val = float(df_monthly_test.item_cnt_day.iloc[0])\n",
    "df_monthly_train.at[33,\"item_cnt_day\"] = actual_val"
   ]
  },
  {
   "cell_type": "code",
   "execution_count": null,
   "id": "d798f479-28db-42b5-b76c-c8c22ea58ca4",
   "metadata": {},
   "outputs": [],
   "source": [
    "#mean squared error (y_true, y_pred)\n",
    "mean_squared_error(df_monthly_train.item_cnt_day[2:], df_monthly_train.rolling_av3_1[2:]).round(2)"
   ]
  },
  {
   "cell_type": "code",
   "execution_count": null,
   "id": "9de60267-6ae4-4be6-b77a-429ae9e278ce",
   "metadata": {},
   "outputs": [],
   "source": [
    "#mean_absolute_error(y_true, y_pred)\n",
    "mean_absolute_error(df_monthly_train.item_cnt_day[2:], df_monthly_train.rolling_av3_1[2:]).round(2)"
   ]
  },
  {
   "cell_type": "code",
   "execution_count": null,
   "id": "3288f62c-b471-4888-8cc4-4c80f4831a33",
   "metadata": {},
   "outputs": [],
   "source": [
    "#Setting parameters for plot fig size\n",
    "plt.rcParams[\"figure.figsize\"] = (20,8)\n",
    "plt.plot(df_monthly_train.item_cnt_day[2:])\n",
    "plt.plot(df_monthly_train.rolling_av3_1[2:], color='red')\n",
    "plt.title(\"Moving average (window 3 months) for monthly total sales\",\n",
    "         fontsize = 18)\n",
    "plt.xlabel(\"Month Number\")\n",
    "plt.ylabel(\"Monthly item count (sum and rolling average)\")\n",
    "plt.legend([\"Observed\", \"Predicted\"])\n",
    "plt.show()"
   ]
  },
  {
   "cell_type": "code",
   "execution_count": null,
   "id": "df342855-0a28-46bc-a0fb-e11fc2fd8073",
   "metadata": {},
   "outputs": [],
   "source": [
    "#mean_absolute_error(y_true, y_pred)\n",
    "mean_absolute_error(df_monthly_train.item_cnt_day[-1:], df_monthly_train.rolling_av3_1[-1:]).round(2)"
   ]
  },
  {
   "cell_type": "markdown",
   "id": "88d03f42-4d03-4cb7-8e62-9eae7514f0dd",
   "metadata": {},
   "source": [
    "# 2A. Pandas moving average - daily - 3 day"
   ]
  },
  {
   "cell_type": "code",
   "execution_count": null,
   "id": "2ad8b031-623a-42b5-9e6f-2ae750efdfbd",
   "metadata": {},
   "outputs": [],
   "source": [
    "# Making a copy of the data frame\n",
    "df_daily_train = df_daily.copy()"
   ]
  },
  {
   "cell_type": "code",
   "execution_count": null,
   "id": "4b247c59-1f68-491c-9068-a8ec2e1247cb",
   "metadata": {},
   "outputs": [],
   "source": [
    "# Adding rolling average column for 3 day rolling average\n",
    "df_daily_train[\"rolling_av3\"] = df_daily_train[\"item_cnt_day\"].rolling(3).mean().round(2)"
   ]
  },
  {
   "cell_type": "code",
   "execution_count": null,
   "id": "406e2ed4-d364-4c7f-8d65-cb41111d4d41",
   "metadata": {},
   "outputs": [],
   "source": [
    "length = len(df_daily_train)\n",
    "length"
   ]
  },
  {
   "cell_type": "code",
   "execution_count": null,
   "id": "8ecd2636-9fd0-48a7-8b24-a269662d411e",
   "metadata": {},
   "outputs": [],
   "source": [
    "d = 1002\n",
    "i = 0\n",
    "while (d < 1033):\n",
    "    df_daily_train[\"rolling_av3\"] = df_daily_train[\"item_cnt_day\"].rolling(3).mean().round(2)\n",
    "    #df.at[4, 'B']\n",
    "    df_daily_train.at[df_daily_test.index[i], \"item_cnt_day\"] = df_daily_train.rolling_av3[len(df_daily_train) - 1]\n",
    "    d = d + 1\n",
    "    i = i + 1\n",
    "    #len(df_daily_train)\n",
    "    #\n",
    "df_daily_train[\"rolling_av3\"] = df_daily_train[\"item_cnt_day\"].rolling(3).mean().round(2)\n",
    "print('Rolling average calculated')\n",
    "# replace test data range of item_cnt_day with actual values\n",
    "i = 0\n",
    "while (i < len(df_daily_test)):\n",
    "    df_daily_train.item_cnt_day[length + i] = df_daily_test.item_cnt_day[i]\n",
    "    i = i + 1\n",
    "print(\"item_cnt_day replaced by original values\")"
   ]
  },
  {
   "cell_type": "code",
   "execution_count": null,
   "id": "ea58cc9a-a00b-44a7-b0d2-1b771156348c",
   "metadata": {},
   "outputs": [],
   "source": [
    "#mean squared error (y_true, y_pred)\n",
    "mean_squared_error(df_daily_train.item_cnt_day[2:], df_daily_train.rolling_av3[2:]).round(2)"
   ]
  },
  {
   "cell_type": "code",
   "execution_count": null,
   "id": "1d7898b1-84f6-4d61-ae1d-67b36fb2c5b4",
   "metadata": {},
   "outputs": [],
   "source": [
    "#mean_absolute_error(y_true, y_pred)\n",
    "mean_absolute_error(df_daily_train.item_cnt_day[2:], df_daily_train.rolling_av3[2:]).round(2)"
   ]
  },
  {
   "cell_type": "code",
   "execution_count": null,
   "id": "3fb8f6c8-a8ab-4445-9e64-929e75fa8965",
   "metadata": {},
   "outputs": [],
   "source": [
    "\n",
    "plt.rcParams[\"figure.figsize\"] = (20,8)\n",
    "\n",
    "plt.plot(df_daily_train.item_cnt_day[2:])\n",
    "plt.plot(df_daily_train.rolling_av3[2:], color='red')\n",
    "plt.title(\"Moving average (window 3 days) for daily total sales\",\n",
    "         fontsize = 18)\n",
    "plt.xlabel(\"Date\")\n",
    "plt.ylabel(\"Daily item count (sum and rolling average)\")\n",
    "plt.legend([\"Observed\", \"Predicted\"])\n",
    "plt.show()"
   ]
  },
  {
   "cell_type": "code",
   "execution_count": null,
   "id": "fce3beda-5561-4f10-aa5e-fa0ac5feeca5",
   "metadata": {},
   "outputs": [],
   "source": [
    "mean_absolute_error(df_daily_train.item_cnt_day[-31:], df_daily_train.rolling_av3[-31:]).round(2)"
   ]
  },
  {
   "cell_type": "markdown",
   "id": "e104e023-15af-4912-9209-7ece2c4c2faa",
   "metadata": {},
   "source": [
    "# 2B. Pandas moving average - daily - 3 day (Grouped by Month)"
   ]
  },
  {
   "cell_type": "code",
   "execution_count": null,
   "id": "de0490b9-ee6e-4962-b2f4-e9908d834596",
   "metadata": {},
   "outputs": [],
   "source": [
    "# Grouping the results by month\n",
    "df_daily_train.head()\n",
    "temp_monthly = df_daily_train.reset_index()"
   ]
  },
  {
   "cell_type": "code",
   "execution_count": null,
   "id": "a8d8fef6-23f3-4b7f-83df-82a8ce97244c",
   "metadata": {},
   "outputs": [],
   "source": [
    "type(temp_monthly.date[0])\n",
    "temp_monthly['date']= pd.to_datetime(temp_monthly['date'])"
   ]
  },
  {
   "cell_type": "code",
   "execution_count": null,
   "id": "6b6c998e-b491-4f3c-a8b9-b214ac4972f7",
   "metadata": {},
   "outputs": [],
   "source": [
    "temp_monthly.index = temp_monthly['date']\n",
    "temp_monthly = temp_monthly.groupby(pd.Grouper(freq='M'))[[\"item_cnt_day\", \"rolling_av3\"]].sum()"
   ]
  },
  {
   "cell_type": "code",
   "execution_count": null,
   "id": "dc55c544-14e9-4a0b-8538-97a2cb8563f0",
   "metadata": {},
   "outputs": [],
   "source": [
    "#mean squared error (y_true, y_pred)\n",
    "mean_squared_error(temp_monthly.item_cnt_day, temp_monthly.rolling_av3).round(2)"
   ]
  },
  {
   "cell_type": "code",
   "execution_count": null,
   "id": "46610c14-cb8d-47fd-9d3a-187698a1d3af",
   "metadata": {},
   "outputs": [],
   "source": [
    "#mean_absolute_error(y_true, y_pred)\n",
    "mean_absolute_error(temp_monthly.item_cnt_day, temp_monthly.rolling_av3).round(2)"
   ]
  },
  {
   "cell_type": "code",
   "execution_count": null,
   "id": "fed93e47-ccba-4ecd-8f05-d1405022537e",
   "metadata": {},
   "outputs": [],
   "source": [
    "#Setting parameters for plot fig size\n",
    "plt.rcParams[\"figure.figsize\"] = (20,8)\n",
    "plt.plot(temp_monthly.item_cnt_day)\n",
    "plt.plot(temp_monthly.rolling_av3, color='red')\n",
    "plt.title(\"Moving average (window 3 days) for Monthly total sales\",\n",
    "         fontsize = 18)\n",
    "plt.xlabel(\"Date\")\n",
    "plt.ylabel(\"Monthly item count (sum and rolling average)\")\n",
    "plt.legend([\"Observed\", \"Predicted\"])\n",
    "plt.show()"
   ]
  },
  {
   "cell_type": "code",
   "execution_count": null,
   "id": "cbe2bf6b-f681-4e9f-ac81-324799392b74",
   "metadata": {},
   "outputs": [],
   "source": [
    "mean_absolute_error(temp_monthly.item_cnt_day[-1:], temp_monthly.rolling_av3[-1:]).round(2)"
   ]
  },
  {
   "cell_type": "markdown",
   "id": "003e5aac-53f9-4177-8544-f2246501fa03",
   "metadata": {},
   "source": [
    "# 3. ARIMA - Monthly"
   ]
  },
  {
   "cell_type": "markdown",
   "id": "108c3844-63e4-472b-972a-18feb825b762",
   "metadata": {},
   "source": [
    "### 1. Rearranging the dataframe"
   ]
  },
  {
   "cell_type": "code",
   "execution_count": null,
   "id": "49480213-1a44-4dca-88f8-cb2feafbf331",
   "metadata": {},
   "outputs": [],
   "source": [
    "df_for_arima = df_daily.copy().reset_index()"
   ]
  },
  {
   "cell_type": "code",
   "execution_count": null,
   "id": "afff24de-551b-4602-8a24-58ec374e8e75",
   "metadata": {},
   "outputs": [],
   "source": [
    "df_for_arima.date = pd.to_datetime(df_for_arima.date)\n",
    "df_for_arima = df_for_arima.resample(rule='M', on='date')['item_cnt_day'].sum()\n",
    "df_for_arima.head()"
   ]
  },
  {
   "cell_type": "markdown",
   "id": "0a58e9af-d109-4152-a130-26afa9b470c4",
   "metadata": {},
   "source": [
    "### 2. EDA"
   ]
  },
  {
   "cell_type": "code",
   "execution_count": null,
   "id": "5a6ec6ea-8fb7-4546-8e58-1ef238adeb14",
   "metadata": {},
   "outputs": [],
   "source": [
    "# Visualizing data as is\n",
    "plt.rcParams[\"figure.figsize\"] = (20,8)\n",
    "df_for_arima.plot()\n",
    "plt.title(\"Monthly total item count\",\n",
    "         fontsize = 18)\n",
    "plt.xlabel(\"Monthly\")\n",
    "plt.ylabel(\"Total item count of the month\")"
   ]
  },
  {
   "cell_type": "markdown",
   "id": "a91c8c48-728f-41eb-984d-a6959bed7a23",
   "metadata": {},
   "source": [
    "### 3. Augmented Dickey-Fuller test"
   ]
  },
  {
   "cell_type": "markdown",
   "id": "cd2fcf58-9348-4c86-9186-8cb64c79b2e9",
   "metadata": {},
   "source": [
    "Theory:\n",
    "\n",
    "Using a statistical test to check if the difference between two samples of Gaussian random variables is real or a statistical fluke. \n",
    "\n",
    "Null Hypothesis (H0): \n",
    "\n",
    "* If failed to be rejected, it suggests the time series has a unit root, meaning it is non-stationary. \n",
    "* It has some time dependent structure.\n",
    "\n",
    "Alternate Hypothesis (H1): \n",
    "\n",
    "* The null hypothesis is rejected; it suggests the time series does not have a unit root, meaning it is stationary. \n",
    "* It does not have time-dependent structure.\n",
    "\n",
    "p-value\n",
    "    \n",
    "* p-value > 0.05: Fail to reject the null hypothesis (H0), the data has a unit root and is non-stationary.\n",
    "* p-value <= 0.05: Reject the null hypothesis (H0), the data does not have a unit root and is stationary."
   ]
  },
  {
   "cell_type": "code",
   "execution_count": null,
   "id": "33c28bcd-771d-4824-abbf-77090d7590d1",
   "metadata": {},
   "outputs": [],
   "source": [
    "\n",
    "X = df_for_arima.values\n",
    "result = adfuller(X)\n",
    "print('ADF Statistic: %f' % result[0])\n",
    "print('p-value: %f' % result[1])\n",
    "print('Critical Values:')\n",
    "for key, value in result[4].items():\n",
    " print('\\t%s: %.3f' % (key, value))\n"
   ]
  },
  {
   "cell_type": "markdown",
   "id": "9ce91c1c-fbda-46c2-8fdb-260036821015",
   "metadata": {},
   "source": [
    "* **p-value is > 0.05**, the data fails to reject the null hypothesis.\n",
    "    \n",
    "* The data has a unit root and is **non-stationary**\n"
   ]
  },
  {
   "cell_type": "markdown",
   "id": "da8cabc4-1b43-4c0b-849d-cb52cf91d2fa",
   "metadata": {},
   "source": [
    "### 4. Autocorrelation - statsmodels"
   ]
  },
  {
   "cell_type": "code",
   "execution_count": null,
   "id": "a0bc16c8-1c8b-4738-8172-93c0a0edcc05",
   "metadata": {},
   "outputs": [],
   "source": [
    "plot_acf(df_for_arima)\n",
    "plt.show()"
   ]
  },
  {
   "cell_type": "markdown",
   "id": "7cd2d572-730d-474f-9375-2d23f5ce6235",
   "metadata": {},
   "source": [
    "### 5. Seasonal decompose"
   ]
  },
  {
   "cell_type": "code",
   "execution_count": null,
   "id": "4d5a93c7-3d9e-4723-b7ef-9cfd84e100f0",
   "metadata": {},
   "outputs": [],
   "source": [
    "# Additive seasonal decompose\n",
    "seasonal_decompose(df_for_arima, model='additive').plot()\n",
    "plt.show()"
   ]
  },
  {
   "cell_type": "code",
   "execution_count": null,
   "id": "d7d8c591-47c2-4c8e-9a64-ef6ecf5f16ba",
   "metadata": {},
   "outputs": [],
   "source": [
    "# Multiplicative seasonal decompose\n",
    "seasonal_decompose(df_for_arima, model='multiplicative').plot()\n",
    "plt.show()"
   ]
  },
  {
   "cell_type": "code",
   "execution_count": null,
   "id": "be7fbb5b-ff1c-44dd-8c86-15cb63d02284",
   "metadata": {},
   "outputs": [],
   "source": [
    "# There is a clear downward trend \n",
    "# There is also clear seasonality (The two peaks at 2014-01 and 2015-01)\n",
    "# The volatility of the residual is reduced considerably in the multiplicative model compared to the additive model.\n",
    "# Probably the multiplicative model is the better bet"
   ]
  },
  {
   "cell_type": "markdown",
   "id": "492794fc-5af8-42d6-8494-133200894e98",
   "metadata": {},
   "source": [
    "# 4. SARIMA - Monthly"
   ]
  },
  {
   "cell_type": "markdown",
   "id": "16b27d10-0c74-4498-8e19-9fb5522082fb",
   "metadata": {},
   "source": [
    "## 1. Figuring out the SARIMA settings with pmdarima/autoarima"
   ]
  },
  {
   "cell_type": "code",
   "execution_count": null,
   "id": "d2dce14f-4d73-48c6-8842-47baece6c922",
   "metadata": {},
   "outputs": [],
   "source": [
    "#!pip install pmdarima"
   ]
  },
  {
   "cell_type": "code",
   "execution_count": null,
   "id": "795721bf-5d05-42d0-b6c8-931943aeb63d",
   "metadata": {},
   "outputs": [],
   "source": [
    "data = df_for_arima.copy()\n",
    "data.head()"
   ]
  },
  {
   "cell_type": "code",
   "execution_count": null,
   "id": "e5a2b91c-392b-4731-9cc1-401e4fdcc439",
   "metadata": {},
   "outputs": [],
   "source": [
    "data.tail()"
   ]
  },
  {
   "cell_type": "code",
   "execution_count": null,
   "id": "de826886-7981-4e2c-83bb-e514fc4b2f20",
   "metadata": {},
   "outputs": [],
   "source": [
    "stepwise_fit = pm.auto_arima(data, start_p=1, start_q=1,\n",
    "                           max_p=3, max_q=3, m=12,\n",
    "                           start_P=0, seasonal=True,\n",
    "                           d=1, D=1, trace=True,\n",
    "                           error_action='ignore',  \n",
    "                           suppress_warnings=True, \n",
    "                           stepwise=True)"
   ]
  },
  {
   "cell_type": "markdown",
   "id": "3fc95c20-8897-41b4-ad2e-8a573123be7e",
   "metadata": {},
   "source": [
    "## 2. Defining, fitting the model and forecasting"
   ]
  },
  {
   "cell_type": "code",
   "execution_count": null,
   "id": "f9d90026-e8aa-4e74-98a4-b194a4ddc5ae",
   "metadata": {},
   "outputs": [],
   "source": [
    "# Defining the model\n",
    "model = SARIMAX(data, order=(0,1,0), seasonal_order=(0,1,0, 12))\n",
    "#fit model\n",
    "results=model.fit(method='cg')\n",
    "#https://stackoverflow.com/questions/46146537/error-in-threading-sarimax-model\n",
    "print(results.summary())"
   ]
  },
  {
   "cell_type": "code",
   "execution_count": null,
   "id": "07e7f89e-8022-469f-9419-636e76ffcabb",
   "metadata": {},
   "outputs": [],
   "source": [
    "# one step forecast\n",
    "yhat = results.forecast(steps=1)"
   ]
  },
  {
   "cell_type": "code",
   "execution_count": null,
   "id": "2b76b290-a796-4ab5-b8fc-aac01583ddae",
   "metadata": {},
   "outputs": [],
   "source": [
    "yhat"
   ]
  },
  {
   "cell_type": "code",
   "execution_count": null,
   "id": "154f838c-f02a-437f-a3b2-1b4f11fc1162",
   "metadata": {},
   "outputs": [],
   "source": [
    "predicted = results.predict(start=0, end=len(data))"
   ]
  },
  {
   "cell_type": "code",
   "execution_count": null,
   "id": "afe04697-aadf-4964-8062-4f9a2bd71b23",
   "metadata": {},
   "outputs": [],
   "source": [
    "predicted.tail()"
   ]
  },
  {
   "cell_type": "markdown",
   "id": "a497f81c-703f-4f38-911b-8a689923ae12",
   "metadata": {},
   "source": [
    "## 3. Creating a dataframe to measure against test data"
   ]
  },
  {
   "cell_type": "code",
   "execution_count": null,
   "id": "54b4fc89-8f3e-4deb-af88-8fa6c1053b48",
   "metadata": {},
   "outputs": [],
   "source": [
    "df_for_sarima_monthly = pd.DataFrame(data.copy())\n",
    "df_for_sarima_monthly.tail()"
   ]
  },
  {
   "cell_type": "code",
   "execution_count": null,
   "id": "6243036c-0e20-4ad7-ac06-b9bf89d1c8b7",
   "metadata": {},
   "outputs": [],
   "source": [
    "index_val = yhat.index[0]\n",
    "index_val"
   ]
  },
  {
   "cell_type": "code",
   "execution_count": null,
   "id": "8ad5376a-0692-41ed-a4e8-d4a1aa704896",
   "metadata": {},
   "outputs": [],
   "source": [
    "df_for_sarima_monthly.at[ index_val, 'item_cnt_day'] = df_monthly_test.item_cnt_day[33]\n",
    "df_for_sarima_monthly.tail()"
   ]
  },
  {
   "cell_type": "code",
   "execution_count": null,
   "id": "be345251-325c-43e6-840f-599493b1c770",
   "metadata": {},
   "outputs": [],
   "source": [
    "df_for_sarima_monthly[\"Predicted\"] = predicted\n",
    "df_for_sarima_monthly.tail()"
   ]
  },
  {
   "cell_type": "code",
   "execution_count": null,
   "id": "76f72b65-4c16-4e18-bec9-23d0640ef80f",
   "metadata": {},
   "outputs": [],
   "source": [
    "df_for_sarima_monthly.head()"
   ]
  },
  {
   "cell_type": "code",
   "execution_count": null,
   "id": "1f8065c7-9078-42de-bb89-78b8f8fc2715",
   "metadata": {},
   "outputs": [],
   "source": [
    "#mean squared error (y_true, y_pred)\n",
    "mean_squared_error(df_for_sarima_monthly.item_cnt_day[1:], df_for_sarima_monthly.Predicted[1:]).round(2)"
   ]
  },
  {
   "cell_type": "code",
   "execution_count": null,
   "id": "5506c48d-df1b-4422-8138-a4f13daae598",
   "metadata": {},
   "outputs": [],
   "source": [
    "#mean_absolute_error(y_true, y_pred)\n",
    "mean_absolute_error(df_for_sarima_monthly.item_cnt_day[1:], df_for_sarima_monthly.Predicted[1:]).round(2)\n"
   ]
  },
  {
   "cell_type": "code",
   "execution_count": null,
   "id": "f35784e3-e2e6-427e-9161-eea3753be158",
   "metadata": {},
   "outputs": [],
   "source": [
    "# Plotting Predicted vs Original\n",
    "plt.rcParams[\"figure.figsize\"] = (20,8)\n",
    "plt.plot(df_for_sarima_monthly.item_cnt_day[1:])\n",
    "plt.plot(df_for_sarima_monthly.Predicted[1:], color='red')\n",
    "plt.title(\"SARIMA for monthly total sales\",\n",
    "         fontsize = 18)\n",
    "plt.xlabel(\"Month\")\n",
    "plt.ylabel(\"Monthly item count (actual and predicted)\")\n",
    "plt.legend([\"Observed\", \"Predicted\"])\n",
    "plt.show()"
   ]
  },
  {
   "cell_type": "markdown",
   "id": "93044993-7234-44e8-88e8-6e32eaf521d1",
   "metadata": {},
   "source": [
    "# 5. ARIMA - Daily"
   ]
  },
  {
   "cell_type": "code",
   "execution_count": null,
   "id": "8772dc50-540c-40b5-a529-680046d7cff7",
   "metadata": {},
   "outputs": [],
   "source": [
    "df_for_arima_daily = df_daily.copy().reset_index()\n",
    "df_for_arima_daily.date = pd.to_datetime(df_for_arima_daily.date)\n",
    "df_for_arima_daily = df_for_arima_daily.resample(rule='D', on='date')['item_cnt_day'].sum()\n",
    "df_for_arima_daily.tail()"
   ]
  },
  {
   "cell_type": "code",
   "execution_count": null,
   "id": "79e17c82-92a9-4925-8a68-7b042d739d53",
   "metadata": {},
   "outputs": [],
   "source": [
    "# Plotting data as is\n",
    "plt.rcParams[\"figure.figsize\"] = (20,8)\n",
    "df_for_arima_daily.plot()\n",
    "plt.title(\"Daily total item count\",\n",
    "         fontsize = 18)\n",
    "plt.xlabel(\"Day\")\n",
    "plt.ylabel(\"Total item count of the day\")"
   ]
  },
  {
   "cell_type": "markdown",
   "id": "47b944e8-bf84-4c2c-98c3-8b3b8a37aa74",
   "metadata": {},
   "source": [
    "## 1. Augmented Dickey-Fuller test"
   ]
  },
  {
   "cell_type": "code",
   "execution_count": null,
   "id": "bf9b6c0c-2709-465f-92cc-3c39c2fb73ce",
   "metadata": {},
   "outputs": [],
   "source": [
    "# Augmented Dickey-Fuller test\n",
    "X = df_for_arima_daily.values\n",
    "result = adfuller(X)\n",
    "print('ADF Statistic: %f' % result[0])\n",
    "print('p-value: %f' % result[1])\n",
    "print('Critical Values:')\n",
    "for key, value in result[4].items():\n",
    " print('\\t%s: %.3f' % (key, value))"
   ]
  },
  {
   "cell_type": "markdown",
   "id": "864f525b-00de-49d4-837c-97d10955cec8",
   "metadata": {},
   "source": [
    "**p-value is < 0.05, the data rejects the null hypothesis.**\n",
    "\n",
    "**The data does not have a unit root and is stationary**"
   ]
  },
  {
   "cell_type": "markdown",
   "id": "58458c9d-f811-4d2a-b6c8-3d2109b1e88a",
   "metadata": {},
   "source": [
    "## 2. Autocorrelation"
   ]
  },
  {
   "cell_type": "code",
   "execution_count": null,
   "id": "13eecc9d-4aec-48c9-acee-be0b39934118",
   "metadata": {},
   "outputs": [],
   "source": [
    "# Plot autocorrelation\n",
    "plt.rcParams[\"figure.figsize\"] = (20,8)\n",
    "plot_acf(df_for_arima_daily)\n",
    "plt.show()"
   ]
  },
  {
   "cell_type": "code",
   "execution_count": null,
   "id": "3511798f-c8f1-4211-b80c-72b11e2563f7",
   "metadata": {},
   "outputs": [],
   "source": [
    "# Plot autocorrelation\n",
    "plt.rcParams[\"figure.figsize\"] = (20,8)\n",
    "plot_pacf(df_for_arima_daily, method='ywm')\n",
    "plt.show()"
   ]
  },
  {
   "cell_type": "markdown",
   "id": "ff0697a0-afe4-4e83-b14b-216de05020ce",
   "metadata": {},
   "source": [
    "## 3. Seasonal decompose"
   ]
  },
  {
   "cell_type": "code",
   "execution_count": null,
   "id": "76912400-e679-4094-8b81-d6f2662d94c9",
   "metadata": {},
   "outputs": [],
   "source": [
    "# Additive seasonal decompose\n",
    "plt.rcParams[\"figure.figsize\"] = (20,16)\n",
    "seasonal_decompose(df_for_arima_daily, model='additive').plot()\n",
    "plt.show()"
   ]
  },
  {
   "cell_type": "code",
   "execution_count": null,
   "id": "578143a4-cf95-4823-a71c-b8628c483f42",
   "metadata": {},
   "outputs": [],
   "source": [
    "# Multiplicative seasonal decompose\n",
    "\n",
    "seasonal_decompose(df_for_arima_daily, model='multiplicative').plot()\n",
    "plt.show()"
   ]
  },
  {
   "cell_type": "code",
   "execution_count": null,
   "id": "82cbe46c-80fb-49c2-bf16-261438befdad",
   "metadata": {},
   "outputs": [],
   "source": [
    "# There is a slight downward trend\n",
    "# There is clear seasonality\n",
    "# Residual improved a lot when changed from additive model to multiplicative. "
   ]
  },
  {
   "cell_type": "markdown",
   "id": "0adec1ed-b641-40f6-bbe1-c92c0945c049",
   "metadata": {},
   "source": [
    "# 6. SARIMA - Daily"
   ]
  },
  {
   "cell_type": "code",
   "execution_count": null,
   "id": "85e009b9-bdf7-42ee-b9d6-0f4fb3d9ed4c",
   "metadata": {},
   "outputs": [],
   "source": [
    "data = df_for_arima_daily.copy()"
   ]
  },
  {
   "cell_type": "code",
   "execution_count": null,
   "id": "ccef8d1e-b0e5-4bfb-b67d-dbe45b4e6210",
   "metadata": {},
   "outputs": [],
   "source": [
    "stepwise_fit = pm.auto_arima(data, start_p=1, start_q=1,\n",
    "                           max_p=3, max_q=3, m=7,\n",
    "                           start_P=0, seasonal=True,\n",
    "                           d=1, D=1, trace=True,\n",
    "                           error_action='ignore',  \n",
    "                           suppress_warnings=True, \n",
    "                           stepwise=True)\n",
    "print(\"Complete\")"
   ]
  },
  {
   "cell_type": "code",
   "execution_count": null,
   "id": "e74244cc-12cd-48e7-8bde-625786b0491d",
   "metadata": {},
   "outputs": [],
   "source": [
    "# Best model:  ARIMA(0,1,1)(1,1,1)[7] AIC=16412.118\n",
    "model = SARIMAX(data, order=(0,1,1), seasonal_order=(1,1,1, 7))"
   ]
  },
  {
   "cell_type": "code",
   "execution_count": null,
   "id": "807649e8-3b22-4d48-bf40-e06dc8ee3aee",
   "metadata": {},
   "outputs": [],
   "source": [
    "results=model.fit(method='cg')\n",
    "print(results.summary())"
   ]
  },
  {
   "cell_type": "code",
   "execution_count": null,
   "id": "cc390d5b-05b0-48a5-869b-ebe86b3ff65e",
   "metadata": {},
   "outputs": [],
   "source": [
    "# one step forecast\n",
    "yhat = results.forecast(steps=31)\n",
    "yhat"
   ]
  },
  {
   "cell_type": "code",
   "execution_count": null,
   "id": "5a20f3db-8096-4133-a019-cad97cdfb525",
   "metadata": {},
   "outputs": [],
   "source": [
    "predicted = results.predict(start=0, end=len(data)+30)\n",
    "predicted.tail()"
   ]
  },
  {
   "cell_type": "code",
   "execution_count": null,
   "id": "bcc4421f-25d2-46a3-9b03-2080025f4a52",
   "metadata": {},
   "outputs": [],
   "source": [
    "series_for_sarima_daily = predicted.copy()"
   ]
  },
  {
   "cell_type": "code",
   "execution_count": null,
   "id": "dc2776da-e007-41db-839d-d292236e4487",
   "metadata": {},
   "outputs": [],
   "source": [
    "series_for_sarima_daily = pd.DataFrame(series_for_sarima_daily)"
   ]
  },
  {
   "cell_type": "code",
   "execution_count": null,
   "id": "2e1a19b7-befb-4185-aee5-3333c18e4056",
   "metadata": {},
   "outputs": [],
   "source": [
    "list = []\n",
    "for i in data:\n",
    "    list.append(i)\n",
    "print(len(list))\n",
    "for i in df_daily_test.item_cnt_day:\n",
    "    list.append(i)\n",
    "print(len(list))"
   ]
  },
  {
   "cell_type": "code",
   "execution_count": null,
   "id": "529b9455-8251-4c1b-bee3-182e97e50f0c",
   "metadata": {},
   "outputs": [],
   "source": [
    "series_for_sarima_daily[\"Original\"] = list"
   ]
  },
  {
   "cell_type": "code",
   "execution_count": null,
   "id": "e69d335a-b3fb-4144-8fc1-195675532d4d",
   "metadata": {},
   "outputs": [],
   "source": [
    "series_for_sarima_daily.tail()"
   ]
  },
  {
   "cell_type": "code",
   "execution_count": null,
   "id": "f98e3cf1-81cd-4b96-8391-0690e0c2d266",
   "metadata": {},
   "outputs": [],
   "source": [
    "#mean squared error (y_true, y_pred)\n",
    "mean_squared_error(series_for_sarima_daily.Original[1:], \n",
    "                   series_for_sarima_daily.predicted_mean[1:]).round(2)\n"
   ]
  },
  {
   "cell_type": "code",
   "execution_count": null,
   "id": "8801503d-6401-49cb-b99f-1199d39e173b",
   "metadata": {},
   "outputs": [],
   "source": [
    "#mean_absolute_error(y_true, y_pred)\n",
    "mean_absolute_error(series_for_sarima_daily.Original[1:], \n",
    "                   series_for_sarima_daily.predicted_mean[1:]).round(2)\n"
   ]
  },
  {
   "cell_type": "code",
   "execution_count": null,
   "id": "551878e8-30d8-4f32-be82-5f29b86f105a",
   "metadata": {},
   "outputs": [],
   "source": [
    "plt.rcParams[\"figure.figsize\"] = (20,8)\n",
    "plt.plot(series_for_sarima_daily.Original[1:])\n",
    "plt.plot(series_for_sarima_daily.predicted_mean[1:], color='red')\n",
    "plt.title(\"SARIMA for daily total sales\",\n",
    "         fontsize = 18)\n",
    "plt.xlabel(\"Date\")\n",
    "plt.ylabel(\"Daily item count (actual and predicted)\")\n",
    "plt.legend([\"Observed\", \"Predicted\"])\n",
    "plt.show()"
   ]
  }
 ],
 "metadata": {
  "kernelspec": {
   "display_name": "Python 3 (ipykernel)",
   "language": "python",
   "name": "python3"
  },
  "language_info": {
   "codemirror_mode": {
    "name": "ipython",
    "version": 3
   },
   "file_extension": ".py",
   "mimetype": "text/x-python",
   "name": "python",
   "nbconvert_exporter": "python",
   "pygments_lexer": "ipython3",
   "version": "3.8.9"
  }
 },
 "nbformat": 4,
 "nbformat_minor": 5
}
